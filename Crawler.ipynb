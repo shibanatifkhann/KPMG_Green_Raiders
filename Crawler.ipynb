{
 "cells": [
  {
   "cell_type": "code",
   "execution_count": 219,
   "id": "7a9cb043",
   "metadata": {},
   "outputs": [],
   "source": [
    "import requests\n",
    "import pandas as pd\n",
    "import numpy as np\n",
    "from bs4 import BeautifulSoup\n",
    "\n",
    "URL = \"https://blueskymodel.org/air-mile\"\n",
    "page = requests.get(URL)\n",
    "soup = BeautifulSoup(page.content, \"html.parser\")\n",
    "\n",
    "\n",
    "# table3 --------------------------------------------\n",
    "results = soup.find(id=\"table-3\")\n",
    "rows = results.find_all('tr')\n",
    "some = []\n",
    "for i in rows:\n",
    "    datas = i.find_all('td')\n",
    "    some.append(datas)\n",
    "datas = rows[1].find_all('td')\n",
    "aircraft = some[1:-1]\n",
    "information = [\n",
    "    [i.text for i in j] for j in aircraft\n",
    "]\n",
    "header = results.find_all('thead')\n",
    "temp = []\n",
    "for i in header:\n",
    "    cols = i.find_all('th')\n",
    "    temp.append(cols)\n",
    "col_names = [temp[0][i].text for i in range(len(temp[0]))]\n",
    "table3 = pd.DataFrame(data = information, columns = col_names)\n",
    "table3 = table3.set_index('Model')\n",
    "\n",
    "# print(table3)"
   ]
  },
  {
   "cell_type": "code",
   "execution_count": 220,
   "id": "b33087e1",
   "metadata": {},
   "outputs": [],
   "source": [
    "# table 4\n",
    "results = soup.find(id=\"table-4\")\n",
    "rows = results.find_all('tr')\n",
    "some = []\n",
    "for i in rows:\n",
    "    datas = i.find_all('td')\n",
    "    some.append(datas)\n",
    "datas = rows[1].find_all('td')\n",
    "aircraft = some[1:-1]\n",
    "information = [\n",
    "    [i.text for i in j] for j in aircraft\n",
    "]\n",
    "header = results.find_all('thead')\n",
    "temp = []\n",
    "for i in header:\n",
    "    cols = i.find_all('th')\n",
    "    temp.append(cols)\n",
    "col_names = [temp[0][i].text for i in range(len(temp[0]))]\n",
    "table4 = pd.DataFrame(data = information, columns = col_names)\n",
    "table4 = table4.set_index('Model')\n",
    "# print(table4)"
   ]
  },
  {
   "cell_type": "code",
   "execution_count": 221,
   "id": "333903ad",
   "metadata": {},
   "outputs": [
    {
     "name": "stdout",
     "output_type": "stream",
     "text": [
      "An average aircraft emits an average of 33.2272765287365 lbs of co2 per 1 km travelled\n"
     ]
    }
   ],
   "source": [
    "# table 5\n",
    "table5 = pd.DataFrame(columns = ['Model', 'as a % Boeing planes', 'Avg. fuel efficiency (gal/mi)', 'Avg. passengers'])\n",
    "a = pd.Series(table3.index)\n",
    "b = pd.Series(table3['as % Boeing planes'])\n",
    "b = b[:-1]\n",
    "b[0] = 37.7\n",
    "table5['Model'] = a[0:5]\n",
    "norm = [float(i) for i in b.values]\n",
    "\n",
    "table5 = table5.set_index('Model')\n",
    "table5['as a % Boeing planes'] = norm\n",
    "\n",
    "fueleff = [1.79, 6.61, 2.75, 2.75, 5.29]\n",
    "passengers = [129, 486, 222, 266, 383]\n",
    "table5[\"Avg. fuel efficiency (gal/mi)\"] = fueleff\n",
    "table5['Avg. passengers'] = passengers\n",
    "\n",
    "table5['weights'] = table5['as a % Boeing planes'] * table5['Avg. fuel efficiency (gal/mi)']\n",
    "\n",
    "fuel_eff_avg = table5['weights'].sum()/100\n",
    "\n",
    "# efficiency of an average aircraft (gal per mi)\n",
    "dodecane_dens = 2839.06\n",
    "co2produced = 3.1\n",
    "conversion = 1/453.59\n",
    "kmmi = 1.60934\n",
    "co2emitted = dodecane_dens * fuel_eff_avg * co2produced * conversion / kmmi\n",
    "# lbs of co2 emitted per mile travelled in an average aircraft\n",
    "print('An average aircraft emits an average of {} lbs of co2 per 1 km travelled'.format(co2emitted))"
   ]
  },
  {
   "cell_type": "code",
   "execution_count": 222,
   "id": "18f8619c",
   "metadata": {},
   "outputs": [
    {
     "name": "stdout",
     "output_type": "stream",
     "text": [
      "Location1:Busan\n",
      "Location2:Darwin\n",
      "The distance between Busan and Darwin is 5275.868967770384 km\n",
      "An average plane travelling between Busan and Darwin would emit on average of 175302.757121486 pounds of co2\n"
     ]
    }
   ],
   "source": [
    "from geopy.geocoders import Nominatim\n",
    "from geopy import distance\n",
    "\n",
    "geocoder = Nominatim(user_agent = 'I know python')\n",
    "location1 = str(input('Location1:'))\n",
    "location2 = str(input('Location2:'))\n",
    "\n",
    "coordinates1 = geocoder.geocode(location1)\n",
    "coordinates2 = geocoder.geocode(location2)\n",
    "\n",
    "lat1, long1 = (coordinates1.latitude),(coordinates1.longitude)\n",
    "lat2, long2 = (coordinates2.latitude),(coordinates2.longitude)\n",
    "\n",
    "place1 = (lat1, long1)\n",
    "place2 = (lat2, long2)\n",
    "distance = distance.distance(place1, place2)\n",
    "print('The distance between {0} and {1} is {2}'.format(location1, location2, distance))\n",
    "\n",
    "\n",
    "distance = str(distance)[:-4]\n",
    "distance = float(distance)\n",
    "\n",
    "result_emission = co2emitted * distance\n",
    "print('An average plane travelling between {} and {} would emit on average of {} pounds of co2'.format(location1, location2, result_emission))"
   ]
  }
 ],
 "metadata": {
  "kernelspec": {
   "display_name": "Python 3",
   "language": "python",
   "name": "python3"
  },
  "language_info": {
   "codemirror_mode": {
    "name": "ipython",
    "version": 3
   },
   "file_extension": ".py",
   "mimetype": "text/x-python",
   "name": "python",
   "nbconvert_exporter": "python",
   "pygments_lexer": "ipython3",
   "version": "3.8.8"
  }
 },
 "nbformat": 4,
 "nbformat_minor": 5
}
