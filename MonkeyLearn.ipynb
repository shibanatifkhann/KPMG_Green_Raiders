{
 "cells": [
  {
   "cell_type": "code",
   "execution_count": 2,
   "id": "9f062afe",
   "metadata": {},
   "outputs": [
    {
     "name": "stdout",
     "output_type": "stream",
     "text": [
      "Please enter the process descriptionWheat shipping from Darwin to Busan\n",
      "\"Wheat shipping from Darwin to Busan\" is a part of \"Shipping and transportation\" category with the likelihood of 75.7%\n"
     ]
    }
   ],
   "source": [
    "from monkeylearn import MonkeyLearn\n",
    "\n",
    "ml = MonkeyLearn('f69009c34188c40863f4d473411ac914f1acf04c')\n",
    "\n",
    "# print('Welcome to the Business Process Classifier!')\n",
    "user_inp = str(input('Please enter the process description'))\n",
    "data = [user_inp]\n",
    "\n",
    "model_id = 'cl_YgpovE2N'\n",
    "result = ml.classifiers.classify(model_id, data)\n",
    "prediction = result.body[0]['classifications'][0]['tag_name']\n",
    "confidence = result.body[0]['classifications'][0]['confidence'] * 100\n",
    "print('\"{0}\" is a part of \"{1}\" category with the likelihood of {2}%'.format(user_inp, prediction, confidence))"
   ]
  }
 ],
 "metadata": {
  "kernelspec": {
   "display_name": "Python 3",
   "language": "python",
   "name": "python3"
  },
  "language_info": {
   "codemirror_mode": {
    "name": "ipython",
    "version": 3
   },
   "file_extension": ".py",
   "mimetype": "text/x-python",
   "name": "python",
   "nbconvert_exporter": "python",
   "pygments_lexer": "ipython3",
   "version": "3.8.8"
  }
 },
 "nbformat": 4,
 "nbformat_minor": 5
}
